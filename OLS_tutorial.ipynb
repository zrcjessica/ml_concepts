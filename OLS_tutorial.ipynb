{
 "cells": [
  {
   "cell_type": "code",
   "execution_count": 2,
   "metadata": {},
   "outputs": [],
   "source": [
    "import numpy as np\n",
    "import matplotlib.pyplot as plt"
   ]
  },
  {
   "cell_type": "markdown",
   "metadata": {},
   "source": [
    "Randomly generate 100 values for each $\\mathbf{y}$ and $\\mathbf{x}$.\n",
    "\n",
    "We will also generate a residual for each value to simulate some error in the linear relationship between $\\mathbf{x}$ and $\\mathbf{y}$. We will use predetermined values of $\\alpha = 2$ and $\\beta = 0.3$ for generating these values."
   ]
  },
  {
   "cell_type": "code",
   "execution_count": 5,
   "metadata": {},
   "outputs": [],
   "source": [
    "np.random.seed(0)\n",
    "\n",
    "# define alpha, beta\n",
    "alpha = 2\n",
    "beta = 0.3\n",
    "\n",
    "# generate x, y\n",
    "x = 2 * np.random.randn(100) + 3   # Array of 100 values with mean = 2, stddev = 3\n",
    "res = 0.5 * np.random.randn(100)       # Generate 100 residual terms\n",
    "y = alpha + beta * x + res                  # Actual values of Y"
   ]
  },
  {
   "cell_type": "markdown",
   "metadata": {},
   "source": [
    "Now let's do OLS!\n",
    "\n",
    "The aim of OLS is to estimate values of $\\alpha$ and $\\beta$ to estimate response variables $\\hat y$ with the linear model:\n",
    "\n",
    "$$\\hat{y}_i = \\alpha + \\beta x_i$$\n",
    "\n",
    "For OLS, we need to estimate $\\alpha$ and $\\beta$ that minimize the squared errors between the observed reponse variables and the predicted response variables for each predictor $X$:\n",
    "\n",
    "$$SSE = \\sum_{i=1}^{N}\\left(y_i-\\hat y_i \\right)^2$$\n",
    "\n",
    "You can estimate the parameters as follows:\n",
    "\n",
    "$$\\beta = \\frac{\\sum_{i=1}^{N} \\left(x_i-\\bar{\\mathbf{x}} \\right) \\left(y_i-\\bar{\\mathbf{y}} \\right)}{\\sum _{i=1}^{N} \\left( x_i - \\bar{\\mathbf{x}} \\right)^2} = \\frac{Cov(\\mathbf{x},\\mathbf{y})}{Var(\\mathbf{x})}$$\n",
    "\n",
    "$$ \\alpha = \\bar{\\mathbf{y}} - \\beta \\bar{\\mathbf{x}} $$"
   ]
  },
  {
   "cell_type": "code",
   "execution_count": 6,
   "metadata": {},
   "outputs": [
    {
     "name": "stdout",
     "output_type": "stream",
     "text": [
      "betaHat = 0.32867, alphaHat = 1.95155\n"
     ]
    }
   ],
   "source": [
    "xbar = np.mean(x)\n",
    "ybar = np.mean(y)\n",
    "\n",
    "# estimate beta and alpha from data\n",
    "betaHat = np.sum((x-xbar)*(y-ybar))/np.sum((x-xbar)**2)\n",
    "alphaHat = ybar - betaHat*xbar\n",
    "\n",
    "print('betaHat = %.5f, alphaHat = %.5f' % (betaHat, alphaHat))"
   ]
  },
  {
   "cell_type": "markdown",
   "metadata": {},
   "source": [
    "How well do these match up with the actual values that we used to generate the data?"
   ]
  },
  {
   "cell_type": "markdown",
   "metadata": {},
   "source": [
    "Now that we have the estimated parameters, let's predict values of $\\hat{\\mathbf{y}}$ given the values $\\mathbf{x}$."
   ]
  },
  {
   "cell_type": "code",
   "execution_count": 8,
   "metadata": {},
   "outputs": [],
   "source": [
    "yhat = alphaHat + betaHat*x"
   ]
  },
  {
   "cell_type": "markdown",
   "metadata": {},
   "source": [
    "Let's plot our values of $\\hat{\\mathbf{y}}$ against our training values of $\\mathbf{y}$."
   ]
  },
  {
   "cell_type": "code",
   "execution_count": 10,
   "metadata": {},
   "outputs": [
    {
     "data": {
      "image/png": "[encoded data removed]",
      "text/plain": [
       "<Figure size 432x288 with 1 Axes>"
      ]
     },
     "metadata": {},
     "output_type": "display_data"
    }
   ],
   "source": [
    "plt.scatter(x, y)   # scatter plot showing actual data\n",
    "plt.plot(x, yhat, 'r')     # regression line\n",
    "plt.title('Predicted vs. Actual values')\n",
    "plt.xlabel('X')\n",
    "plt.ylabel('y')\n",
    "\n",
    "plt.show()"
   ]
  },
  {
   "cell_type": "markdown",
   "metadata": {},
   "source": [
    "We can also check the Pearson correlation between $\\hat{\\mathbf{y}}$ and $\\mathbf{y}$:"
   ]
  },
  {
   "cell_type": "code",
   "execution_count": 14,
   "metadata": {},
   "outputs": [
    {
     "name": "stdout",
     "output_type": "stream",
     "text": [
      "Pearson's r = 0.790\n"
     ]
    }
   ],
   "source": [
    "from scipy.stats import pearsonr\n",
    "\n",
    "corr, _ = pearsonr(yhat, y)\n",
    "print(\"Pearson's r = %.3f\" % corr)"
   ]
  }
 ],
 "metadata": {
  "kernelspec": {
   "display_name": "Python 3",
   "language": "python",
   "name": "python3"
  },
  "language_info": {
   "codemirror_mode": {
    "name": "ipython",
    "version": 3
   },
   "file_extension": ".py",
   "mimetype": "text/x-python",
   "name": "python",
   "nbconvert_exporter": "python",
   "pygments_lexer": "ipython3",
   "version": "3.6.8"
  }
 },
 "nbformat": 4,
 "nbformat_minor": 2
}
